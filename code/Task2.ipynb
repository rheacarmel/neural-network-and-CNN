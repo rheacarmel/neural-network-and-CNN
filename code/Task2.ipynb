{
 "cells": [
  {
   "cell_type": "code",
   "execution_count": 0,
   "metadata": {
    "colab": {},
    "colab_type": "code",
    "id": "1ojrvLqS-dhD"
   },
   "outputs": [],
   "source": []
  },
  {
   "cell_type": "code",
   "execution_count": 0,
   "metadata": {
    "colab": {},
    "colab_type": "code",
    "id": "DcaubjjJ0dgi"
   },
   "outputs": [],
   "source": []
  },
  {
   "cell_type": "code",
   "execution_count": 0,
   "metadata": {
    "colab": {},
    "colab_type": "code",
    "id": "4mBYf3xFflgz"
   },
   "outputs": [],
   "source": [
    "import tensorflow as tf\n",
    "from tensorflow import keras\n",
    "from tensorflow.keras import layers, models\n",
    "from tensorflow.keras.models import load_model\n",
    "from numpy import loadtxt\n",
    "from keras.models import Sequential\n",
    "from keras.layers import Dense\n",
    "import matplotlib.pyplot as plt\n",
    "import pandas as pd\n",
    "import util_mnist_reader1 as mnist_reader"
   ]
  },
  {
   "cell_type": "code",
   "execution_count": 0,
   "metadata": {
    "colab": {},
    "colab_type": "code",
    "id": "UbyngcogHNJ-"
   },
   "outputs": [],
   "source": [
    "import numpy as np\n",
    "import matplotlib.pyplot as plt"
   ]
  },
  {
   "cell_type": "code",
   "execution_count": 0,
   "metadata": {
    "colab": {
     "base_uri": "https://localhost:8080/",
     "height": 158
    },
    "colab_type": "code",
    "id": "opun2uthiOkD",
    "outputId": "ed89a092-ffa7-464c-c68d-bc777d46ed5d"
   },
   "outputs": [
    {
     "name": "stdout",
     "output_type": "stream",
     "text": [
      "Downloading data from https://storage.googleapis.com/tensorflow/tf-keras-datasets/train-labels-idx1-ubyte.gz\n",
      "32768/29515 [=================================] - 0s 0us/step\n",
      "Downloading data from https://storage.googleapis.com/tensorflow/tf-keras-datasets/train-images-idx3-ubyte.gz\n",
      "26427392/26421880 [==============================] - 0s 0us/step\n",
      "Downloading data from https://storage.googleapis.com/tensorflow/tf-keras-datasets/t10k-labels-idx1-ubyte.gz\n",
      "8192/5148 [===============================================] - 0s 0us/step\n",
      "Downloading data from https://storage.googleapis.com/tensorflow/tf-keras-datasets/t10k-images-idx3-ubyte.gz\n",
      "4423680/4422102 [==============================] - 0s 0us/step\n"
     ]
    }
   ],
   "source": [
    "fashion_mnist = keras.datasets.fashion_mnist\n",
    "\n",
    "(train_images, train_labels), (test_images, test_labels) = fashion_mnist.load_data()"
   ]
  },
  {
   "cell_type": "code",
   "execution_count": 0,
   "metadata": {
    "colab": {
     "base_uri": "https://localhost:8080/",
     "height": 34
    },
    "colab_type": "code",
    "id": "2PlMMxPaBUvU",
    "outputId": "5edc3d87-fea3-49cb-d5d2-8243a1ce03e4"
   },
   "outputs": [
    {
     "data": {
      "text/plain": [
       "(60000, 28, 28)"
      ]
     },
     "execution_count": 43,
     "metadata": {
      "tags": []
     },
     "output_type": "execute_result"
    }
   ],
   "source": [
    "train_images.shape"
   ]
  },
  {
   "cell_type": "code",
   "execution_count": 0,
   "metadata": {
    "colab": {},
    "colab_type": "code",
    "id": "ZiV4F93nMGdQ"
   },
   "outputs": [],
   "source": [
    "train_image=train_images.reshape((60000,784))\n",
    "test_image=test_images.reshape((10000,784))"
   ]
  },
  {
   "cell_type": "code",
   "execution_count": 0,
   "metadata": {
    "colab": {},
    "colab_type": "code",
    "id": "v-vOUWVxOZYR"
   },
   "outputs": [],
   "source": [
    "train_images=train_images/255.0\n",
    "test_images=test_images/255.0"
   ]
  },
  {
   "cell_type": "code",
   "execution_count": 0,
   "metadata": {
    "colab": {},
    "colab_type": "code",
    "id": "ptr7ImvaQS6u"
   },
   "outputs": [],
   "source": [
    "class_names = ['T-shirt/top', 'Trouser', 'Pullover', 'Dress', 'Coat',\n",
    "               'Sandal', 'Shirt', 'Sneaker', 'Bag', 'Ankle boot']"
   ]
  },
  {
   "cell_type": "code",
   "execution_count": 0,
   "metadata": {
    "colab": {},
    "colab_type": "code",
    "id": "lYHXy1imMLGJ"
   },
   "outputs": [],
   "source": [
    "model=keras.Sequential([keras.layers.Flatten(input_shape=(28,28)),\n",
    "                       keras.layers.Dense(128,activation='relu'),\n",
    "                        keras.layers.Dense(64,activation='relu'),\n",
    "                       keras.layers.Dense(10,activation='softmax')])"
   ]
  },
  {
   "cell_type": "code",
   "execution_count": 0,
   "metadata": {
    "colab": {},
    "colab_type": "code",
    "id": "tKZ8m9zfM3xM"
   },
   "outputs": [],
   "source": [
    "model.compile(optimizer='SGD',loss='sparse_categorical_crossentropy',metrics=['accuracy'])"
   ]
  },
  {
   "cell_type": "code",
   "execution_count": 0,
   "metadata": {
    "colab": {
     "base_uri": "https://localhost:8080/",
     "height": 756
    },
    "colab_type": "code",
    "id": "-P3-AkbgPNWZ",
    "outputId": "aa1940a7-6357-4bb9-8cff-9f411730d3ed"
   },
   "outputs": [
    {
     "name": "stdout",
     "output_type": "stream",
     "text": [
      "Train on 54000 samples, validate on 6000 samples\n",
      "Epoch 1/20\n",
      "54000/54000 [==============================] - 1s 24us/sample - loss: 1.8151 - acc: 0.4472 - val_loss: 1.3630 - val_acc: 0.6577\n",
      "Epoch 2/20\n",
      "54000/54000 [==============================] - 1s 25us/sample - loss: 1.1522 - acc: 0.6708 - val_loss: 0.9802 - val_acc: 0.6950\n",
      "Epoch 3/20\n",
      "54000/54000 [==============================] - 1s 24us/sample - loss: 0.9102 - acc: 0.7044 - val_loss: 0.8290 - val_acc: 0.7302\n",
      "Epoch 4/20\n",
      "54000/54000 [==============================] - 1s 24us/sample - loss: 0.8000 - acc: 0.7349 - val_loss: 0.7502 - val_acc: 0.7527\n",
      "Epoch 5/20\n",
      "54000/54000 [==============================] - 1s 22us/sample - loss: 0.7339 - acc: 0.7572 - val_loss: 0.6952 - val_acc: 0.7705\n",
      "Epoch 6/20\n",
      "54000/54000 [==============================] - 1s 21us/sample - loss: 0.6866 - acc: 0.7731 - val_loss: 0.6572 - val_acc: 0.7820\n",
      "Epoch 7/20\n",
      "54000/54000 [==============================] - 1s 25us/sample - loss: 0.6496 - acc: 0.7856 - val_loss: 0.6268 - val_acc: 0.7908\n",
      "Epoch 8/20\n",
      "54000/54000 [==============================] - 1s 26us/sample - loss: 0.6214 - acc: 0.7944 - val_loss: 0.6025 - val_acc: 0.7985\n",
      "Epoch 9/20\n",
      "54000/54000 [==============================] - 1s 21us/sample - loss: 0.5985 - acc: 0.8019 - val_loss: 0.5855 - val_acc: 0.8040\n",
      "Epoch 10/20\n",
      "54000/54000 [==============================] - 1s 20us/sample - loss: 0.5798 - acc: 0.8075 - val_loss: 0.5656 - val_acc: 0.8082\n",
      "Epoch 11/20\n",
      "54000/54000 [==============================] - 1s 21us/sample - loss: 0.5639 - acc: 0.8115 - val_loss: 0.5561 - val_acc: 0.8130\n",
      "Epoch 12/20\n",
      "54000/54000 [==============================] - 1s 20us/sample - loss: 0.5498 - acc: 0.8174 - val_loss: 0.5395 - val_acc: 0.8163\n",
      "Epoch 13/20\n",
      "54000/54000 [==============================] - 1s 21us/sample - loss: 0.5381 - acc: 0.8197 - val_loss: 0.5334 - val_acc: 0.8190\n",
      "Epoch 14/20\n",
      "54000/54000 [==============================] - 1s 20us/sample - loss: 0.5274 - acc: 0.8229 - val_loss: 0.5206 - val_acc: 0.8228\n",
      "Epoch 15/20\n",
      "54000/54000 [==============================] - 1s 23us/sample - loss: 0.5190 - acc: 0.8251 - val_loss: 0.5195 - val_acc: 0.8243\n",
      "Epoch 16/20\n",
      "54000/54000 [==============================] - 1s 23us/sample - loss: 0.5106 - acc: 0.8268 - val_loss: 0.5059 - val_acc: 0.8257\n",
      "Epoch 17/20\n",
      "54000/54000 [==============================] - 1s 22us/sample - loss: 0.5030 - acc: 0.8294 - val_loss: 0.5016 - val_acc: 0.8267\n",
      "Epoch 18/20\n",
      "54000/54000 [==============================] - 1s 26us/sample - loss: 0.4968 - acc: 0.8316 - val_loss: 0.4967 - val_acc: 0.8297\n",
      "Epoch 19/20\n",
      "54000/54000 [==============================] - 1s 22us/sample - loss: 0.4918 - acc: 0.8330 - val_loss: 0.4974 - val_acc: 0.8263\n",
      "Epoch 20/20\n",
      "54000/54000 [==============================] - 1s 22us/sample - loss: 0.4856 - acc: 0.8340 - val_loss: 0.4882 - val_acc: 0.8290\n"
     ]
    },
    {
     "data": {
      "text/plain": [
       "<tensorflow.python.keras.callbacks.History at 0x7f09c7f3fa90>"
      ]
     },
     "execution_count": 83,
     "metadata": {
      "tags": []
     },
     "output_type": "execute_result"
    }
   ],
   "source": [
    "model.fit(train_images, train_labels, epochs=20, batch_size=512, shuffle=True, validation_split=0.1)"
   ]
  },
  {
   "cell_type": "code",
   "execution_count": 0,
   "metadata": {
    "colab": {
     "base_uri": "https://localhost:8080/",
     "height": 70
    },
    "colab_type": "code",
    "id": "cIN-G9BJPVo5",
    "outputId": "d4df9562-ea66-4ffb-86ff-ed7dab125d39"
   },
   "outputs": [
    {
     "name": "stdout",
     "output_type": "stream",
     "text": [
      "10000/10000 [==============================] - 0s 35us/sample - loss: 0.5128 - acc: 0.8216\n",
      "\n",
      " Test accuracy: 0.8216\n"
     ]
    }
   ],
   "source": [
    "test_loss,test_acc=model.evaluate(test_images,test_labels)\n",
    "print(\"\\n Test accuracy:\",test_acc)"
   ]
  },
  {
   "cell_type": "code",
   "execution_count": 0,
   "metadata": {
    "colab": {
     "base_uri": "https://localhost:8080/",
     "height": 70
    },
    "colab_type": "code",
    "id": "hS3qTlYcPuYA",
    "outputId": "5ebb33b3-6104-4988-8e0e-d97b1cb5196f"
   },
   "outputs": [
    {
     "name": "stdout",
     "output_type": "stream",
     "text": [
      "60000/60000 [==============================] - 2s 32us/sample - loss: 0.4846 - acc: 0.8344\n",
      "\n",
      " Train accuracy: 0.8343667\n"
     ]
    }
   ],
   "source": [
    "train_loss,train_acc=model.evaluate(train_images,train_labels)\n",
    "print(\"\\n Train accuracy:\",train_acc)"
   ]
  },
  {
   "cell_type": "code",
   "execution_count": 0,
   "metadata": {
    "colab": {
     "base_uri": "https://localhost:8080/",
     "height": 34
    },
    "colab_type": "code",
    "id": "l0s0US03QFEh",
    "outputId": "e2dd1f93-20f9-4379-e016-81a25feb2300"
   },
   "outputs": [
    {
     "name": "stdout",
     "output_type": "stream",
     "text": [
      "dict_keys(['loss', 'acc', 'val_loss', 'val_acc'])\n"
     ]
    }
   ],
   "source": [
    "print(model.history.history.keys())"
   ]
  },
  {
   "cell_type": "code",
   "execution_count": 0,
   "metadata": {
    "colab": {
     "base_uri": "https://localhost:8080/",
     "height": 295
    },
    "colab_type": "code",
    "id": "52fO7ynFRWK8",
    "outputId": "3dc711fc-8954-4289-af2c-38fa9c0f4b18"
   },
   "outputs": [
    {
     "data": {
      "image/png": "[encoded data removed]",
      "text/plain": [
       "<Figure size 432x288 with 1 Axes>"
      ]
     },
     "metadata": {
      "tags": []
     },
     "output_type": "display_data"
    }
   ],
   "source": [
    "plt.plot(model.history.history['acc'])\n",
    "plt.plot(model.history.history['val_acc'])\n",
    "plt.title(\"accuracy\")\n",
    "plt.ylabel(\"Accuracy\")\n",
    "plt.xlabel(\"epoch\")\n",
    "plt.legend([\"train\",\"test\"],loc='upper left')\n",
    "plt.show()"
   ]
  },
  {
   "cell_type": "code",
   "execution_count": 0,
   "metadata": {
    "colab": {
     "base_uri": "https://localhost:8080/",
     "height": 295
    },
    "colab_type": "code",
    "id": "lI1XZ8sVR7XI",
    "outputId": "f3f788d1-4885-4a66-a301-4138f48349cc"
   },
   "outputs": [
    {
     "data": {
      "image/png": "[encoded data removed]",
      "text/plain": [
       "<Figure size 432x288 with 1 Axes>"
      ]
     },
     "metadata": {
      "tags": []
     },
     "output_type": "display_data"
    }
   ],
   "source": [
    "plt.plot(model.history.history['loss'])\n",
    "plt.plot(model.history.history['val_loss'])\n",
    "plt.title(\"loss\")\n",
    "plt.ylabel(\"'loss'\")\n",
    "plt.xlabel(\"epoch\")\n",
    "plt.legend(['Train','Test'],loc=\"upper right\")\n",
    "plt.show()"
   ]
  },
  {
   "cell_type": "code",
   "execution_count": 0,
   "metadata": {
    "colab": {},
    "colab_type": "code",
    "id": "TXwr4_zhSnHv"
   },
   "outputs": [],
   "source": [
    "from sklearn.metrics import confusion_matrix"
   ]
  },
  {
   "cell_type": "code",
   "execution_count": 0,
   "metadata": {
    "colab": {},
    "colab_type": "code",
    "id": "aXN4ZsIRYJJV"
   },
   "outputs": [],
   "source": [
    "predicted_test=model.predict(test_images)"
   ]
  },
  {
   "cell_type": "code",
   "execution_count": 0,
   "metadata": {
    "colab": {
     "base_uri": "https://localhost:8080/",
     "height": 34
    },
    "colab_type": "code",
    "id": "NVbiU9X8Yacx",
    "outputId": "e98445dd-469c-4c72-b773-e91a22d00875"
   },
   "outputs": [
    {
     "data": {
      "text/plain": [
       "2"
      ]
     },
     "execution_count": 93,
     "metadata": {
      "tags": []
     },
     "output_type": "execute_result"
    }
   ],
   "source": [
    "from sklearn.metrics import confusion_matrix\n",
    "pr=[]\n",
    "for i in range(len(test_images)):\n",
    "    predicted_test_index=np.argmax(predicted_test[i]) \n",
    "    pr.append(predicted_test_index)\n",
    "confusion=confusion_matrix(test_labels,pr)  \n",
    "print(confusion)"
   ]
  },
  {
   "cell_type": "code",
   "execution_count": 0,
   "metadata": {
    "colab": {
     "base_uri": "https://localhost:8080/",
     "height": 34
    },
    "colab_type": "code",
    "id": "bQh0ZNGlX-qQ",
    "outputId": "151e3bdb-6381-4957-f6a3-7aa7db2d93b1"
   },
   "outputs": [
    {
     "data": {
      "text/plain": [
       "2"
      ]
     },
     "execution_count": 94,
     "metadata": {
      "tags": []
     },
     "output_type": "execute_result"
    }
   ],
   "source": [
    "test_labels[1]"
   ]
  },
  {
   "cell_type": "code",
   "execution_count": 0,
   "metadata": {
    "colab": {
     "base_uri": "https://localhost:8080/",
     "height": 286
    },
    "colab_type": "code",
    "id": "uXfkwypQYl-b",
    "outputId": "1d9ccf96-b6d0-4eca-e74a-2eab44aefa92"
   },
   "outputs": [
    {
     "data": {
      "text/plain": [
       "<matplotlib.image.AxesImage at 0x7f09c4307128>"
      ]
     },
     "execution_count": 97,
     "metadata": {
      "tags": []
     },
     "output_type": "execute_result"
    },
    {
     "data": {
      "image/png": "[encoded data removed]",
      "text/plain": [
       "<Figure size 432x288 with 1 Axes>"
      ]
     },
     "metadata": {
      "tags": []
     },
     "output_type": "display_data"
    }
   ],
   "source": [
    "plt.figure()\n",
    "plt.imshow(np.squeeze(test_images[1]))"
   ]
  },
  {
   "cell_type": "code",
   "execution_count": 0,
   "metadata": {
    "colab": {},
    "colab_type": "code",
    "id": "fkOe_eytdDBb"
   },
   "outputs": [],
   "source": []
  }
 ],
 "metadata": {
  "colab": {
   "name": "neural network keras part2 .ipynb",
   "provenance": []
  },
  "kernelspec": {
   "display_name": "Python 3",
   "language": "python",
   "name": "python3"
  },
  "language_info": {
   "codemirror_mode": {
    "name": "ipython",
    "version": 3
   },
   "file_extension": ".py",
   "mimetype": "text/x-python",
   "name": "python",
   "nbconvert_exporter": "python",
   "pygments_lexer": "ipython3",
   "version": "3.6.5"
  }
 },
 "nbformat": 4,
 "nbformat_minor": 1
}
