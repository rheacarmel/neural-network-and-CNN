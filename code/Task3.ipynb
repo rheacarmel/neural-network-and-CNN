{
 "cells": [
  {
   "cell_type": "code",
   "execution_count": 2,
   "metadata": {
    "colab": {
     "base_uri": "https://localhost:8080/",
     "height": 34
    },
    "colab_type": "code",
    "id": "0EmiojTt-j1r",
    "outputId": "8fd21682-2f88-48ea-b717-a0130eff7898"
   },
   "outputs": [
    {
     "name": "stdout",
     "output_type": "stream",
     "text": [
      "1.15.0-rc3\n"
     ]
    }
   ],
   "source": [
    "import  tensorflow as tf\n",
    "from tensorflow import keras\n",
    "from tensorflow.keras import layers, models\n",
    "from tensorflow.keras.models import load_model\n",
    "import os\n",
    "\n",
    "print(tf.VERSION)"
   ]
  },
  {
   "cell_type": "code",
   "execution_count": 3,
   "metadata": {
    "colab": {
     "base_uri": "https://localhost:8080/",
     "height": 34
    },
    "colab_type": "code",
    "id": "vgYB0xzo_NWL",
    "outputId": "eac13adb-cd6d-4822-a0d0-e60c1fe04855"
   },
   "outputs": [
    {
     "name": "stdout",
     "output_type": "stream",
     "text": [
      "2.2.4-tf\n"
     ]
    }
   ],
   "source": [
    "print(tf.keras.__version__)"
   ]
  },
  {
   "cell_type": "code",
   "execution_count": 0,
   "metadata": {
    "colab": {},
    "colab_type": "code",
    "id": "HDXuqBQd_RC3"
   },
   "outputs": [],
   "source": [
    "import numpy as np\n",
    "import matplotlib.pyplot as plt"
   ]
  },
  {
   "cell_type": "code",
   "execution_count": 5,
   "metadata": {
    "colab": {
     "base_uri": "https://localhost:8080/",
     "height": 178
    },
    "colab_type": "code",
    "id": "R9euiJKK_YdN",
    "outputId": "a52782fc-16ee-4380-fc92-ae657667a3d3"
   },
   "outputs": [
    {
     "name": "stdout",
     "output_type": "stream",
     "text": [
      "Downloading data from https://storage.googleapis.com/tensorflow/tf-keras-datasets/train-labels-idx1-ubyte.gz\n",
      "32768/29515 [=================================] - 0s 0us/step\n",
      "Downloading data from https://storage.googleapis.com/tensorflow/tf-keras-datasets/train-images-idx3-ubyte.gz\n",
      "26427392/26421880 [==============================] - 0s 0us/step\n",
      "Downloading data from https://storage.googleapis.com/tensorflow/tf-keras-datasets/t10k-labels-idx1-ubyte.gz\n",
      "8192/5148 [===============================================] - 0s 0us/step\n",
      "Downloading data from https://storage.googleapis.com/tensorflow/tf-keras-datasets/t10k-images-idx3-ubyte.gz\n",
      "4423680/4422102 [==============================] - 0s 0us/step\n"
     ]
    }
   ],
   "source": [
    "fashion_mnist = keras.datasets.fashion_mnist\n",
    "\n",
    "(train_images, train_labels), (test_images, test_labels) = fashion_mnist.load_data()"
   ]
  },
  {
   "cell_type": "code",
   "execution_count": 0,
   "metadata": {
    "colab": {},
    "colab_type": "code",
    "id": "GGi5LD5h_wDU"
   },
   "outputs": [],
   "source": [
    "class_name=['T-shirt/top','Trouser','Pullover','Dress','Coat','Sandal','Shirt','Sneaker','Bag','Ankle boot']"
   ]
  },
  {
   "cell_type": "code",
   "execution_count": 7,
   "metadata": {
    "colab": {
     "base_uri": "https://localhost:8080/",
     "height": 34
    },
    "colab_type": "code",
    "id": "JnQAP3D8AFGp",
    "outputId": "2322b1a3-d1ef-4269-e6f7-240d52b53936"
   },
   "outputs": [
    {
     "data": {
      "text/plain": [
       "(60000, 28, 28)"
      ]
     },
     "execution_count": 7,
     "metadata": {
      "tags": []
     },
     "output_type": "execute_result"
    }
   ],
   "source": [
    "train_images.shape"
   ]
  },
  {
   "cell_type": "code",
   "execution_count": 8,
   "metadata": {
    "colab": {
     "base_uri": "https://localhost:8080/",
     "height": 34
    },
    "colab_type": "code",
    "id": "7S5u_gsXAHcr",
    "outputId": "87d53a16-c037-4870-b886-0525c2ae0c5d"
   },
   "outputs": [
    {
     "data": {
      "text/plain": [
       "(60000,)"
      ]
     },
     "execution_count": 8,
     "metadata": {
      "tags": []
     },
     "output_type": "execute_result"
    }
   ],
   "source": [
    "train_labels.shape"
   ]
  },
  {
   "cell_type": "code",
   "execution_count": 9,
   "metadata": {
    "colab": {
     "base_uri": "https://localhost:8080/",
     "height": 34
    },
    "colab_type": "code",
    "id": "f8L2OJAgAVK_",
    "outputId": "21e09616-f34c-45cc-ab7b-f0cc95b106ea"
   },
   "outputs": [
    {
     "data": {
      "text/plain": [
       "(10000, 28, 28)"
      ]
     },
     "execution_count": 9,
     "metadata": {
      "tags": []
     },
     "output_type": "execute_result"
    }
   ],
   "source": [
    "test_images.shape"
   ]
  },
  {
   "cell_type": "code",
   "execution_count": 10,
   "metadata": {
    "colab": {
     "base_uri": "https://localhost:8080/",
     "height": 34
    },
    "colab_type": "code",
    "id": "z9rg3qksA5E6",
    "outputId": "724ccd55-9e5d-4b98-c701-cdcd09d5dd6e"
   },
   "outputs": [
    {
     "data": {
      "text/plain": [
       "(10000,)"
      ]
     },
     "execution_count": 10,
     "metadata": {
      "tags": []
     },
     "output_type": "execute_result"
    }
   ],
   "source": [
    "test_labels.shape"
   ]
  },
  {
   "cell_type": "code",
   "execution_count": 11,
   "metadata": {
    "colab": {
     "base_uri": "https://localhost:8080/",
     "height": 286
    },
    "colab_type": "code",
    "id": "R7_FuwnUA76Z",
    "outputId": "ef55ee2f-e799-4155-ea3f-35d81eb1deaf"
   },
   "outputs": [
    {
     "data": {
      "text/plain": [
       "<matplotlib.image.AxesImage at 0x7ff7c8b48240>"
      ]
     },
     "execution_count": 11,
     "metadata": {
      "tags": []
     },
     "output_type": "execute_result"
    },
    {
     "data": {
      "image/png": "[encoded data removed]",
      "text/plain": [
       "<Figure size 432x288 with 1 Axes>"
      ]
     },
     "metadata": {
      "tags": []
     },
     "output_type": "display_data"
    }
   ],
   "source": [
    "plt.figure()\n",
    "plt.imshow(np.squeeze(train_images[10]))"
   ]
  },
  {
   "cell_type": "code",
   "execution_count": 12,
   "metadata": {
    "colab": {
     "base_uri": "https://localhost:8080/",
     "height": 34
    },
    "colab_type": "code",
    "id": "TjcVT8TBBKRI",
    "outputId": "da91bc3f-acdc-457f-a6c8-c8ce3e096dac"
   },
   "outputs": [
    {
     "data": {
      "text/plain": [
       "0"
      ]
     },
     "execution_count": 12,
     "metadata": {
      "tags": []
     },
     "output_type": "execute_result"
    }
   ],
   "source": [
    "train_labels[10]"
   ]
  },
  {
   "cell_type": "code",
   "execution_count": 13,
   "metadata": {
    "colab": {
     "base_uri": "https://localhost:8080/",
     "height": 367
    },
    "colab_type": "code",
    "id": "sbzVrjGbBSXA",
    "outputId": "4a98d116-d892-4443-ff68-4a84ccb5a3cf"
   },
   "outputs": [
    {
     "data": {
      "image/png": "[encoded data removed]",
      "text/plain": [
       "<Figure size 720x720 with 15 Axes>"
      ]
     },
     "metadata": {
      "tags": []
     },
     "output_type": "display_data"
    }
   ],
   "source": [
    "plt.figure(figsize=(10,10))\n",
    "for i in range(15):\n",
    "  plt.subplot(5,5,i+1)\n",
    "  plt.xticks([])\n",
    "  plt.yticks([])\n",
    "  plt.imshow(train_images[i],cmap=plt.cm.binary)\n",
    "  plt.xlabel(class_name[train_labels[i]])\n",
    "plt.show()  "
   ]
  },
  {
   "cell_type": "code",
   "execution_count": 0,
   "metadata": {
    "colab": {},
    "colab_type": "code",
    "id": "8ZhFOfAIB-ZN"
   },
   "outputs": [],
   "source": [
    "train_image=train_images.reshape((60000,28,28,1))\n",
    "test_image=test_images.reshape((10000,28,28,1))"
   ]
  },
  {
   "cell_type": "code",
   "execution_count": 0,
   "metadata": {
    "colab": {},
    "colab_type": "code",
    "id": "37eHEr2b0D3E"
   },
   "outputs": [],
   "source": [
    "train_image_norm=train_image/255.0"
   ]
  },
  {
   "cell_type": "code",
   "execution_count": 0,
   "metadata": {
    "colab": {},
    "colab_type": "code",
    "id": "xKh_IzE50M92"
   },
   "outputs": [],
   "source": [
    "test_image_norm=test_image/255.0"
   ]
  },
  {
   "cell_type": "code",
   "execution_count": 0,
   "metadata": {
    "colab": {},
    "colab_type": "code",
    "id": "A8WwdcU40Qs7"
   },
   "outputs": [],
   "source": [
    "conv1=layers.Conv2D(32,(3,3),activation='relu' , input_shape=(28,28,1))"
   ]
  },
  {
   "cell_type": "code",
   "execution_count": 0,
   "metadata": {
    "colab": {},
    "colab_type": "code",
    "id": "wDs8yW0H05lu"
   },
   "outputs": [],
   "source": [
    "conv2=layers.Conv2D(64,(3,3),activation='relu')"
   ]
  },
  {
   "cell_type": "code",
   "execution_count": 0,
   "metadata": {
    "colab": {},
    "colab_type": "code",
    "id": "rCa0bdmA1Tcu"
   },
   "outputs": [],
   "source": [
    "conv3=layers.Conv2D(128,(3,3),activation='relu')"
   ]
  },
  {
   "cell_type": "code",
   "execution_count": 0,
   "metadata": {
    "colab": {},
    "colab_type": "code",
    "id": "_Q4YWI0T1chJ"
   },
   "outputs": [],
   "source": [
    "max_pool_1=layers.MaxPooling2D((2,2))\n",
    "max_pool_2=layers.MaxPooling2D((2,2))\n",
    "max_pool_3=layers.MaxPooling2D((2,2))"
   ]
  },
  {
   "cell_type": "code",
   "execution_count": 0,
   "metadata": {
    "colab": {},
    "colab_type": "code",
    "id": "RDBcH2xR4TcR"
   },
   "outputs": [],
   "source": [
    "flat_layer=layers.Flatten()"
   ]
  },
  {
   "cell_type": "markdown",
   "metadata": {
    "colab_type": "text",
    "id": "lhFDGJXVE78u"
   },
   "source": []
  },
  {
   "cell_type": "code",
   "execution_count": 0,
   "metadata": {
    "colab": {},
    "colab_type": "code",
    "id": "dQ7n0QI_EFAY"
   },
   "outputs": [],
   "source": [
    "fc=layers.Dense(128,activation='relu')"
   ]
  },
  {
   "cell_type": "code",
   "execution_count": 0,
   "metadata": {
    "colab": {},
    "colab_type": "code",
    "id": "Ua3CcrYWFBxK"
   },
   "outputs": [],
   "source": [
    "output=layers.Dense(10,'softmax')"
   ]
  },
  {
   "cell_type": "code",
   "execution_count": 24,
   "metadata": {
    "colab": {
     "base_uri": "https://localhost:8080/",
     "height": 90
    },
    "colab_type": "code",
    "id": "ao_KiK1zFKDe",
    "outputId": "72131772-1cda-46e0-8032-adf98175612f"
   },
   "outputs": [
    {
     "name": "stdout",
     "output_type": "stream",
     "text": [
      "WARNING:tensorflow:From /usr/local/lib/python3.6/dist-packages/tensorflow_core/python/ops/resource_variable_ops.py:1630: calling BaseResourceVariable.__init__ (from tensorflow.python.ops.resource_variable_ops) with constraint is deprecated and will be removed in a future version.\n",
      "Instructions for updating:\n",
      "If using Keras pass *_constraint arguments to layers.\n"
     ]
    }
   ],
   "source": [
    "model=models.Sequential()\n",
    "model.add(conv1)\n",
    "model.add(conv2)\n",
    "model.add(conv3)\n",
    "model.add(max_pool_1)\n",
    "model.add(flat_layer)\n",
    "model.add(fc)\n",
    "model.add(output)"
   ]
  },
  {
   "cell_type": "code",
   "execution_count": 25,
   "metadata": {
    "colab": {
     "base_uri": "https://localhost:8080/",
     "height": 404
    },
    "colab_type": "code",
    "id": "FBm6UDTcFf9R",
    "outputId": "928f90aa-6167-4512-db7a-79e4df89f710"
   },
   "outputs": [
    {
     "name": "stdout",
     "output_type": "stream",
     "text": [
      "Model: \"sequential\"\n",
      "_________________________________________________________________\n",
      "Layer (type)                 Output Shape              Param #   \n",
      "=================================================================\n",
      "conv2d (Conv2D)              (None, 26, 26, 32)        320       \n",
      "_________________________________________________________________\n",
      "conv2d_1 (Conv2D)            (None, 24, 24, 64)        18496     \n",
      "_________________________________________________________________\n",
      "conv2d_2 (Conv2D)            (None, 22, 22, 128)       73856     \n",
      "_________________________________________________________________\n",
      "max_pooling2d (MaxPooling2D) (None, 11, 11, 128)       0         \n",
      "_________________________________________________________________\n",
      "flatten (Flatten)            (None, 15488)             0         \n",
      "_________________________________________________________________\n",
      "dense (Dense)                (None, 128)               1982592   \n",
      "_________________________________________________________________\n",
      "dense_1 (Dense)              (None, 10)                1290      \n",
      "=================================================================\n",
      "Total params: 2,076,554\n",
      "Trainable params: 2,076,554\n",
      "Non-trainable params: 0\n",
      "_________________________________________________________________\n"
     ]
    }
   ],
   "source": [
    "model.summary()"
   ]
  },
  {
   "cell_type": "code",
   "execution_count": 0,
   "metadata": {
    "colab": {},
    "colab_type": "code",
    "id": "Tg_m_RHoGpH0"
   },
   "outputs": [],
   "source": [
    "model.compile(optimizer='adam',\n",
    "             loss='sparse_categorical_crossentropy',\n",
    "             metrics=['accuracy'])"
   ]
  },
  {
   "cell_type": "code",
   "execution_count": 27,
   "metadata": {
    "colab": {
     "base_uri": "https://localhost:8080/",
     "height": 776
    },
    "colab_type": "code",
    "id": "ivdtXf3GFmMt",
    "outputId": "16345d76-0dbd-40a1-efaf-8e8d680ad887"
   },
   "outputs": [
    {
     "name": "stdout",
     "output_type": "stream",
     "text": [
      "Train on 54000 samples, validate on 6000 samples\n",
      "Epoch 1/20\n",
      "54000/54000 [==============================] - 399s 7ms/sample - loss: 0.5868 - acc: 0.7932 - val_loss: 0.3616 - val_acc: 0.8730\n",
      "Epoch 2/20\n",
      "54000/54000 [==============================] - 395s 7ms/sample - loss: 0.3182 - acc: 0.8872 - val_loss: 0.2860 - val_acc: 0.8960\n",
      "Epoch 3/20\n",
      "54000/54000 [==============================] - 395s 7ms/sample - loss: 0.2616 - acc: 0.9042 - val_loss: 0.2603 - val_acc: 0.9072\n",
      "Epoch 4/20\n",
      "54000/54000 [==============================] - 395s 7ms/sample - loss: 0.2224 - acc: 0.9207 - val_loss: 0.2550 - val_acc: 0.9082\n",
      "Epoch 5/20\n",
      "54000/54000 [==============================] - 398s 7ms/sample - loss: 0.1954 - acc: 0.9290 - val_loss: 0.2375 - val_acc: 0.9102\n",
      "Epoch 6/20\n",
      "54000/54000 [==============================] - 408s 8ms/sample - loss: 0.1668 - acc: 0.9389 - val_loss: 0.2309 - val_acc: 0.9175\n",
      "Epoch 7/20\n",
      "54000/54000 [==============================] - 404s 7ms/sample - loss: 0.1491 - acc: 0.9453 - val_loss: 0.2266 - val_acc: 0.9193\n",
      "Epoch 8/20\n",
      "54000/54000 [==============================] - 399s 7ms/sample - loss: 0.1267 - acc: 0.9538 - val_loss: 0.2303 - val_acc: 0.9192\n",
      "Epoch 9/20\n",
      "54000/54000 [==============================] - 395s 7ms/sample - loss: 0.1036 - acc: 0.9627 - val_loss: 0.2316 - val_acc: 0.9222\n",
      "Epoch 10/20\n",
      "54000/54000 [==============================] - 392s 7ms/sample - loss: 0.0839 - acc: 0.9699 - val_loss: 0.2476 - val_acc: 0.9222\n",
      "Epoch 11/20\n",
      "54000/54000 [==============================] - 393s 7ms/sample - loss: 0.0731 - acc: 0.9736 - val_loss: 0.2567 - val_acc: 0.9217\n",
      "Epoch 12/20\n",
      "54000/54000 [==============================] - 393s 7ms/sample - loss: 0.0564 - acc: 0.9791 - val_loss: 0.2719 - val_acc: 0.9225\n",
      "Epoch 13/20\n",
      "54000/54000 [==============================] - 394s 7ms/sample - loss: 0.0463 - acc: 0.9842 - val_loss: 0.3139 - val_acc: 0.9212\n",
      "Epoch 14/20\n",
      "54000/54000 [==============================] - 394s 7ms/sample - loss: 0.0417 - acc: 0.9850 - val_loss: 0.3241 - val_acc: 0.9172\n",
      "Epoch 15/20\n",
      "54000/54000 [==============================] - 395s 7ms/sample - loss: 0.0316 - acc: 0.9887 - val_loss: 0.3286 - val_acc: 0.9223\n",
      "Epoch 16/20\n",
      "54000/54000 [==============================] - 394s 7ms/sample - loss: 0.0200 - acc: 0.9931 - val_loss: 0.3633 - val_acc: 0.9192\n",
      "Epoch 17/20\n",
      "54000/54000 [==============================] - 392s 7ms/sample - loss: 0.0214 - acc: 0.9925 - val_loss: 0.3797 - val_acc: 0.9203\n",
      "Epoch 18/20\n",
      "54000/54000 [==============================] - 394s 7ms/sample - loss: 0.0129 - acc: 0.9960 - val_loss: 0.4051 - val_acc: 0.9232\n",
      "Epoch 19/20\n",
      "54000/54000 [==============================] - 394s 7ms/sample - loss: 0.0119 - acc: 0.9963 - val_loss: 0.4255 - val_acc: 0.9197\n",
      "Epoch 20/20\n",
      "54000/54000 [==============================] - 394s 7ms/sample - loss: 0.0147 - acc: 0.9951 - val_loss: 0.4401 - val_acc: 0.9215\n"
     ]
    },
    {
     "data": {
      "text/plain": [
       "<tensorflow.python.keras.callbacks.History at 0x7ff7c573fba8>"
      ]
     },
     "execution_count": 27,
     "metadata": {
      "tags": []
     },
     "output_type": "execute_result"
    }
   ],
   "source": [
    "model.fit(train_image_norm, train_labels, epochs=20, batch_size=512, shuffle=True, validation_split=0.1)"
   ]
  },
  {
   "cell_type": "code",
   "execution_count": 28,
   "metadata": {
    "colab": {
     "base_uri": "https://localhost:8080/",
     "height": 54
    },
    "colab_type": "code",
    "id": "dyGWN65sNIm6",
    "outputId": "bfaec441-2152-49d0-b790-3eacc0d4ff09"
   },
   "outputs": [
    {
     "name": "stdout",
     "output_type": "stream",
     "text": [
      "10000/10000 [==============================] - 23s 2ms/sample - loss: 0.4716 - acc: 0.9192\n"
     ]
    }
   ],
   "source": [
    "test_loss,test_accuracy=model.evaluate(test_image_norm,test_labels)"
   ]
  },
  {
   "cell_type": "code",
   "execution_count": 30,
   "metadata": {
    "colab": {
     "base_uri": "https://localhost:8080/",
     "height": 34
    },
    "colab_type": "code",
    "id": "LDUznRI8RKbW",
    "outputId": "5200e661-a8b8-4fcd-e983-fccc6923ce10"
   },
   "outputs": [
    {
     "name": "stdout",
     "output_type": "stream",
     "text": [
      "0.9192\n"
     ]
    }
   ],
   "source": [
    "print(test_accuracy)"
   ]
  },
  {
   "cell_type": "code",
   "execution_count": 38,
   "metadata": {
    "colab": {
     "base_uri": "https://localhost:8080/",
     "height": 54
    },
    "colab_type": "code",
    "id": "5k60-ZcXE_0O",
    "outputId": "b2d666e3-d757-4a11-c6e8-0c5bd4621fee"
   },
   "outputs": [
    {
     "name": "stdout",
     "output_type": "stream",
     "text": [
      "60000/60000 [==============================] - 141s 2ms/sample - loss: 0.0548 - acc: 0.9887\n"
     ]
    }
   ],
   "source": [
    "train_loss,train_accuracy=model.evaluate(train_image_norm,train_labels)"
   ]
  },
  {
   "cell_type": "code",
   "execution_count": 32,
   "metadata": {
    "colab": {
     "base_uri": "https://localhost:8080/",
     "height": 34
    },
    "colab_type": "code",
    "id": "80Q2mZ8cIHBB",
    "outputId": "ff40a485-1631-4571-b9b9-ae34d86c68f9"
   },
   "outputs": [
    {
     "name": "stdout",
     "output_type": "stream",
     "text": [
      "dict_keys(['loss', 'acc', 'val_loss', 'val_acc'])\n"
     ]
    }
   ],
   "source": [
    "#accuracy plot\n",
    "print(model.history.history.keys())\n"
   ]
  },
  {
   "cell_type": "code",
   "execution_count": 36,
   "metadata": {
    "colab": {
     "base_uri": "https://localhost:8080/",
     "height": 295
    },
    "colab_type": "code",
    "id": "CpSIP19Ta0ED",
    "outputId": "e3ec9cbf-e974-494b-92b4-cc5c5ee7c541"
   },
   "outputs": [
    {
     "data": {
      "image/png": "[encoded data removed]",
      "text/plain": [
       "<Figure size 432x288 with 1 Axes>"
      ]
     },
     "metadata": {
      "tags": []
     },
     "output_type": "display_data"
    }
   ],
   "source": [
    "plt.plot(model.history.history['acc'])\n",
    "plt.plot(model.history.history['val_acc'])\n",
    "plt.title(\"accuracy\")\n",
    "plt.ylabel(\"Accuracy\")\n",
    "plt.xlabel(\"epoch\")\n",
    "plt.legend([\"train\",\"test\"],loc='upper left')\n",
    "plt.show()"
   ]
  },
  {
   "cell_type": "markdown",
   "metadata": {
    "colab_type": "text",
    "id": "JbMfrlQ8cp8U"
   },
   "source": [
    "loss plot\n"
   ]
  },
  {
   "cell_type": "code",
   "execution_count": 39,
   "metadata": {
    "colab": {
     "base_uri": "https://localhost:8080/",
     "height": 295
    },
    "colab_type": "code",
    "id": "3XrEb0ZvbGQ8",
    "outputId": "48abec06-57ed-4d42-be5e-13a75c684ef9"
   },
   "outputs": [
    {
     "data": {
      "image/png": "[encoded data removed]",
      "text/plain": [
       "<Figure size 432x288 with 1 Axes>"
      ]
     },
     "metadata": {
      "tags": []
     },
     "output_type": "display_data"
    }
   ],
   "source": [
    "plt.plot(model.history.history['loss'])\n",
    "plt.plot(model.history.history['val_loss'])\n",
    "plt.title(\"loss\")\n",
    "plt.ylabel(\"'loss'\")\n",
    "plt.xlabel(\"epoch\")\n",
    "plt.legend(['Train','Test'],loc=\"upper left\")\n",
    "plt.show()"
   ]
  },
  {
   "cell_type": "code",
   "execution_count": 0,
   "metadata": {
    "colab": {},
    "colab_type": "code",
    "id": "zkFw65modMcn"
   },
   "outputs": [],
   "source": [
    "predicted_test=model.predict(test_image_norm)\n",
    "\n"
   ]
  },
  {
   "cell_type": "code",
   "execution_count": 41,
   "metadata": {
    "colab": {
     "base_uri": "https://localhost:8080/",
     "height": 34
    },
    "colab_type": "code",
    "id": "YnfgmZzKdhLZ",
    "outputId": "7eeab91e-7d11-4a52-c3aa-a77eef6beb71"
   },
   "outputs": [
    {
     "data": {
      "text/plain": [
       "(10000, 10)"
      ]
     },
     "execution_count": 41,
     "metadata": {
      "tags": []
     },
     "output_type": "execute_result"
    }
   ],
   "source": [
    "predicted_test.shape"
   ]
  },
  {
   "cell_type": "code",
   "execution_count": 50,
   "metadata": {
    "colab": {
     "base_uri": "https://localhost:8080/",
     "height": 70
    },
    "colab_type": "code",
    "id": "AJ4zNbKsdr0F",
    "outputId": "93ca55a9-12bf-4fd0-8aa1-af61944d5a50"
   },
   "outputs": [
    {
     "data": {
      "text/plain": [
       "array([4.9821718e-22, 7.8931570e-19, 7.6482906e-13, 2.7399648e-17,\n",
       "       3.1218599e-09, 1.0843410e-27, 1.0000000e+00, 1.6883076e-32,\n",
       "       1.1172991e-19, 4.0118616e-23], dtype=float32)"
      ]
     },
     "execution_count": 50,
     "metadata": {
      "tags": []
     },
     "output_type": "execute_result"
    }
   ],
   "source": []
  },
  {
   "cell_type": "code",
   "execution_count": 52,
   "metadata": {
    "colab": {
     "base_uri": "https://localhost:8080/",
     "height": 34
    },
    "colab_type": "code",
    "id": "4ivqQyoedviX",
    "outputId": "d8cd7616-6474-4645-9881-b0f6cb6ad1d1"
   },
   "outputs": [
    {
     "data": {
      "text/plain": [
       "6"
      ]
     },
     "execution_count": 52,
     "metadata": {
      "tags": []
     },
     "output_type": "execute_result"
    }
   ],
   "source": [
    "from sklearn.metrics import confusion_matrix\n",
    "pr=[]\n",
    "for i in range(len(test_images)):\n",
    "    predicted_test_index=np.argmax(predicted_test[i])\n",
    "    pr.append(predicted_test_index)\n",
    "confusion=confusion_matrix(test_labels,pr)  \n",
    "print(confusion)"
   ]
  },
  {
   "cell_type": "code",
   "execution_count": 54,
   "metadata": {
    "colab": {
     "base_uri": "https://localhost:8080/",
     "height": 34
    },
    "colab_type": "code",
    "id": "al_nTyC1eFTx",
    "outputId": "1116d5ba-e595-46bb-846e-356ab8d08c37"
   },
   "outputs": [
    {
     "data": {
      "text/plain": [
       "6"
      ]
     },
     "execution_count": 54,
     "metadata": {
      "tags": []
     },
     "output_type": "execute_result"
    }
   ],
   "source": [
    "test_labels[7]"
   ]
  },
  {
   "cell_type": "code",
   "execution_count": 56,
   "metadata": {
    "colab": {
     "base_uri": "https://localhost:8080/",
     "height": 286
    },
    "colab_type": "code",
    "id": "SxzHf8coeIw8",
    "outputId": "bb806a39-de12-42c4-a810-ec1b2cd62046"
   },
   "outputs": [
    {
     "data": {
      "text/plain": [
       "<matplotlib.image.AxesImage at 0x7ff7b15b0198>"
      ]
     },
     "execution_count": 56,
     "metadata": {
      "tags": []
     },
     "output_type": "execute_result"
    },
    {
     "data": {
      "image/png": "[encoded data removed]",
      "text/plain": [
       "<Figure size 432x288 with 1 Axes>"
      ]
     },
     "metadata": {
      "tags": []
     },
     "output_type": "display_data"
    }
   ],
   "source": [
    "plt.figure()\n",
    "plt.imshow(np.squeeze(test_image[7]))"
   ]
  },
  {
   "cell_type": "code",
   "execution_count": 0,
   "metadata": {
    "colab": {},
    "colab_type": "code",
    "id": "WSFfI7hLecIa"
   },
   "outputs": [],
   "source": []
  }
 ],
 "metadata": {
  "colab": {
   "name": "neural network _keras.ipynb",
   "provenance": []
  },
  "kernelspec": {
   "display_name": "Python 3",
   "language": "python",
   "name": "python3"
  },
  "language_info": {
   "codemirror_mode": {
    "name": "ipython",
    "version": 3
   },
   "file_extension": ".py",
   "mimetype": "text/x-python",
   "name": "python",
   "nbconvert_exporter": "python",
   "pygments_lexer": "ipython3",
   "version": "3.6.5"
  }
 },
 "nbformat": 4,
 "nbformat_minor": 1
}
